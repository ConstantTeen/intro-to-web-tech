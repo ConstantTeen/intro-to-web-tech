{
 "cells": [
  {
   "cell_type": "code",
   "execution_count": 45,
   "metadata": {},
   "outputs": [],
   "source": [
    "import lxml\n",
    "from bs4 import BeautifulSoup\n",
    "import requests\n",
    "from pprint import pprint\n",
    "import datetime"
   ]
  },
  {
   "cell_type": "code",
   "execution_count": 83,
   "metadata": {},
   "outputs": [],
   "source": [
    "d = {\n",
    "    'января': 1,\n",
    "    'февраля': 2,\n",
    "    'марта': 3,\n",
    "    'апреля': 4,\n",
    "    'мая': 5,\n",
    "    'июня': 6,\n",
    "    'июля': 7,\n",
    "    'августа': 8,\n",
    "    'сентября': 9,\n",
    "    'октября': 10,\n",
    "    'ноября': 11,\n",
    "    'декабря': 12\n",
    "}\n",
    "\n",
    "def get_html(url):\n",
    "    result = requests.get(url)\n",
    "    return result.text\n",
    "\n",
    "def get_data(html):\n",
    "    soup = BeautifulSoup(html, 'lxml')\n",
    "    \n",
    "    articles = soup.find('section', {'class': 'section-news'}).find_all('article')\n",
    "    data = []\n",
    "    \n",
    "    for ar in articles:\n",
    "        day_month = ar.find('header').find('div').find('h2').text\n",
    "        day, month = day_month.split(' ')\n",
    "        \n",
    "        day = int(day)\n",
    "        month = d[month]\n",
    "        \n",
    "        hour_minute = ar.find('header').find('div').find('div').text\n",
    "        hour, minute = map(int, hour_minute.split(':'))\n",
    "        \n",
    "        time = datetime.datetime(2020,month,day,hour,minute)\n",
    "        \n",
    "        text = ar.find('div', {'class': 'content'}).text\n",
    "        \n",
    "        data += [[time, text]]\n",
    "        \n",
    "    return data\n",
    "\n",
    "def print_news(news):\n",
    "    for new in news:\n",
    "        print(new[0])\n",
    "        print(new[1])\n",
    "        print()"
   ]
  },
  {
   "cell_type": "code",
   "execution_count": 84,
   "metadata": {},
   "outputs": [
    {
     "name": "stdout",
     "output_type": "stream",
     "text": [
      "2020-11-25 13:40:00\n",
      "Уважаемые студенты!Приглашаем присоединиться к работе наших секций 63й Конференции МФТИ. Вы можете в дистанционном формате послушать научные доклады наших студентов, аспирантов, а также участников из других организаций.Сегодня Вас ждут 2 секции: Секция физики и физического материаловедения: время начала - 16:00, ссылка на zoom https://zoom.us/j/95884809212 Секция НБИК-технологий: время начала - 15:00, zoom: 3188476512 код: 164782Подробнее информацию о следующих днях и других секциях Вы можете псомотреть на сайте конференции https://conf.mipt.ru\n",
      "\n",
      "2020-10-24 22:12:00\n",
      "Завтра 25 октября - последний день приема работ на 63-ю Всероссийскую научную конференцию МФТИ.  Если вы хотите выступить со своей работой, то советуем не откладывать на завтра, а перейти на сайт conf.mipt.ru, выбрать свою секцию из 100 секций конференции и отправить работу прямо сейчас!  Конференция пройдет 23-27 ноября в онлайн-формате. Принять участие в конференции можно из любой точки России!\n",
      "\n",
      "2020-09-09 23:52:00\n",
      "Дорогие друзья! Открыт прием докладов на 63-ю научную конференцию МФТИ. Авторы лучших докладов получат льготы при поступлении в магистратуру и аспирантуру. Доклады принимаются до 5 октября. Вся необходимая информация по конференции доступна в группе в ВК: https://vk.com/confmipt и на официальном сайте конференции: https://conf.mipt.ru Напоминаем Вам, что доклады публикуются в сборнике трудов конференции и учитываются в конкурсах на различные стипендии.\n",
      "\n",
      "2020-08-30 19:40:00\n",
      "Приглашаем всех первокурсников на День знаний МФТИ\n",
      "\n",
      "2020-08-24 21:32:00\n",
      "Дорогие первокурсники! Поздравляем вас с поступлением в ИНБИКСТ МФТИ! Для вас создана отдельная группа в ВК( https://vk.com/club198170519 ), в которой будет публиковаться важная организационная информация! Также там есть полезные ссылки, связанные с поселением и общественной жизнью. Для добавление в беседу курса пишите вашему старшему куратору (https://vk.com/seina). Обращаем ваше внимание, что поселение в этом году происходить в довольно сложном режиме, поэтому просьба незамедлительно заполнить эту гугл-форму: https://docs.google.com/forms/d/1mStXQx4WMfZw3y...Абитуриентам, которые поступили в магистратуру ИНБИКСТ из других Физтех-школ/ВУЗов, просьба писать Егору Ларионову. Он вам поможет найти беседы своих групп.\n",
      "\n"
     ]
    }
   ],
   "source": [
    "url = 'https://inbicst.ru/'\n",
    "html = get_html(url)\n",
    "news = get_data(html)\n",
    "    \n",
    "print_news(news)"
   ]
  }
 ],
 "metadata": {
  "kernelspec": {
   "display_name": "Python 3",
   "language": "python",
   "name": "python3"
  },
  "language_info": {
   "codemirror_mode": {
    "name": "ipython",
    "version": 3
   },
   "file_extension": ".py",
   "mimetype": "text/x-python",
   "name": "python",
   "nbconvert_exporter": "python",
   "pygments_lexer": "ipython3",
   "version": "3.6.12"
  }
 },
 "nbformat": 4,
 "nbformat_minor": 4
}
